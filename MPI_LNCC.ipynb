{
  "nbformat": 4,
  "nbformat_minor": 0,
  "metadata": {
    "colab": {
      "provenance": [],
      "gpuType": "V28",
      "authorship_tag": "ABX9TyPjD6NADWCYNUiM5na8KcK7",
      "include_colab_link": true
    },
    "kernelspec": {
      "name": "python3",
      "display_name": "Python 3"
    },
    "language_info": {
      "name": "python"
    },
    "accelerator": "TPU"
  },
  "cells": [
    {
      "cell_type": "markdown",
      "metadata": {
        "id": "view-in-github",
        "colab_type": "text"
      },
      "source": [
        "<a href=\"https://colab.research.google.com/github/gpsilva2003/MPI/blob/main/MPI_LNCC.ipynb\" target=\"_parent\"><img src=\"https://colab.research.google.com/assets/colab-badge.svg\" alt=\"Open In Colab\"/></a>"
      ]
    },
    {
      "cell_type": "markdown",
      "source": [
        "#Introdução\n",
        "O ambiente Colab, por padrão, compila e executa códigos em python. Entretanto, vamos utilizá-lo para executar programas em linguagem \"C\" com uso de uma biblioteca MPI. Devemos ter certeza que os pacotes necessários estão instalados. A principio, os seguintes pacotes serão necessários:\n",
        "\n",
        "- gcc\n",
        "- openmpi\n",
        "\n",
        "Altere o tipo de ambiente de execução para v2-8 TPU. Em caso de dúvidas utilize o apoio do assistente de IA Gemini.\n"
      ],
      "metadata": {
        "id": "ujRKBEKXCE1K"
      }
    },
    {
      "cell_type": "code",
      "source": [
        "!gcc --version\n"
      ],
      "metadata": {
        "colab": {
          "base_uri": "https://localhost:8080/"
        },
        "id": "hgUVSlVPCv7X",
        "outputId": "b555d83b-1a21-411a-f74d-e44b5ef81f8d"
      },
      "execution_count": 4,
      "outputs": [
        {
          "output_type": "stream",
          "name": "stdout",
          "text": [
            "gcc (Ubuntu 11.4.0-1ubuntu1~22.04) 11.4.0\n",
            "Copyright (C) 2021 Free Software Foundation, Inc.\n",
            "This is free software; see the source for copying conditions.  There is NO\n",
            "warranty; not even for MERCHANTABILITY or FITNESS FOR A PARTICULAR PURPOSE.\n",
            "\n"
          ]
        }
      ]
    },
    {
      "cell_type": "code",
      "source": [
        "!mpicc --version"
      ],
      "metadata": {
        "colab": {
          "base_uri": "https://localhost:8080/"
        },
        "id": "cd1gkkF2D_oE",
        "outputId": "d7716ac5-0289-4601-a7e9-e32fd5f61138"
      },
      "execution_count": 5,
      "outputs": [
        {
          "output_type": "stream",
          "name": "stdout",
          "text": [
            "gcc (Ubuntu 11.4.0-1ubuntu1~22.04) 11.4.0\n",
            "Copyright (C) 2021 Free Software Foundation, Inc.\n",
            "This is free software; see the source for copying conditions.  There is NO\n",
            "warranty; not even for MERCHANTABILITY or FITNESS FOR A PARTICULAR PURPOSE.\n",
            "\n"
          ]
        }
      ]
    },
    {
      "cell_type": "code",
      "execution_count": 3,
      "metadata": {
        "colab": {
          "base_uri": "https://localhost:8080/"
        },
        "id": "6bfYkpINBiLj",
        "outputId": "70801114-c025-4a00-abdd-67a76d14ccc7"
      },
      "outputs": [
        {
          "output_type": "stream",
          "name": "stdout",
          "text": [
            "Reading package lists... Done\n",
            "Building dependency tree... Done\n",
            "Reading state information... Done\n",
            "The following NEW packages will be installed:\n",
            "  openmpi-doc\n",
            "0 upgraded, 1 newly installed, 0 to remove and 49 not upgraded.\n",
            "Need to get 1,072 kB of archives.\n",
            "After this operation, 4,268 kB of additional disk space will be used.\n",
            "Get:1 http://archive.ubuntu.com/ubuntu jammy/universe amd64 openmpi-doc all 4.1.2-2ubuntu1 [1,072 kB]\n",
            "Fetched 1,072 kB in 0s (4,686 kB/s)\n",
            "debconf: unable to initialize frontend: Dialog\n",
            "debconf: (No usable dialog-like program is installed, so the dialog based frontend cannot be used. at /usr/share/perl5/Debconf/FrontEnd/Dialog.pm line 78, <> line 1.)\n",
            "debconf: falling back to frontend: Readline\n",
            "debconf: unable to initialize frontend: Readline\n",
            "debconf: (This frontend requires a controlling tty.)\n",
            "debconf: falling back to frontend: Teletype\n",
            "dpkg-preconfigure: unable to re-open stdin: \n",
            "Selecting previously unselected package openmpi-doc.\n",
            "(Reading database ... 123632 files and directories currently installed.)\n",
            "Preparing to unpack .../openmpi-doc_4.1.2-2ubuntu1_all.deb ...\n",
            "Unpacking openmpi-doc (4.1.2-2ubuntu1) ...\n",
            "Setting up openmpi-doc (4.1.2-2ubuntu1) ...\n",
            "Processing triggers for man-db (2.10.2-1) ...\n"
          ]
        }
      ],
      "source": [
        "!sudo apt install openmpi-doc"
      ]
    },
    {
      "cell_type": "markdown",
      "source": [
        "Em seguida, vamos importar os arquivos a serem utilizados no curso do repositório https://github.com/Programacao-Paralela-e-Distribuida/MPI . Depois organizar os arquivos adequadamente para nossos exemplos."
      ],
      "metadata": {
        "id": "OOZ2zfTFK11P"
      }
    },
    {
      "cell_type": "code",
      "source": [
        "!git clone https://github.com/Programacao-Paralela-e-Distribuida/MPI"
      ],
      "metadata": {
        "colab": {
          "base_uri": "https://localhost:8080/"
        },
        "id": "hYtmr_LOHIrd",
        "outputId": "669b1b79-afb6-4b25-f9f2-61453390b8a8"
      },
      "execution_count": 2,
      "outputs": [
        {
          "output_type": "stream",
          "name": "stdout",
          "text": [
            "Cloning into 'MPI'...\n",
            "remote: Enumerating objects: 126, done.\u001b[K\n",
            "remote: Counting objects: 100% (126/126), done.\u001b[K\n",
            "remote: Compressing objects: 100% (80/80), done.\u001b[K\n",
            "remote: Total 126 (delta 66), reused 69 (delta 38), pack-reused 0 (from 0)\u001b[K\n",
            "Receiving objects: 100% (126/126), 3.49 MiB | 13.94 MiB/s, done.\n",
            "Resolving deltas: 100% (66/66), done.\n"
          ]
        }
      ]
    },
    {
      "cell_type": "markdown",
      "source": [],
      "metadata": {
        "id": "65NR1ceCKugH"
      }
    },
    {
      "cell_type": "code",
      "source": [
        "!mv MPI/* .\n",
        "!rm -rf MPI\n",
        "!ls -l"
      ],
      "metadata": {
        "colab": {
          "base_uri": "https://localhost:8080/"
        },
        "id": "B4X0oQTkHU5D",
        "outputId": "0f48c7c9-9b3b-4425-a6ad-8db1f3de0825"
      },
      "execution_count": 3,
      "outputs": [
        {
          "output_type": "stream",
          "name": "stdout",
          "text": [
            "total 36\n",
            "drwxr-xr-x 2 root root  4096 Jan 13 15:06 bin\n",
            "drwxr-xr-x 2 root root  4096 Jan 13 15:06 docs\n",
            "-rw-r--r-- 1 root root   547 Jan 13 15:06 Makefile\n",
            "-rw-r--r-- 1 root root 13256 Jan 13 15:06 README.md\n",
            "drwxr-xr-x 1 root root  4096 Jan  9 14:19 sample_data\n",
            "drwxr-xr-x 2 root root  4096 Jan 13 15:06 src\n"
          ]
        }
      ]
    },
    {
      "cell_type": "markdown",
      "source": [
        "# Exemplo simples\n",
        "\n",
        "A seguir apresentamos um exemplo simples de programa MPI. Para sua execução o comando a ser utilizado é o *mpicc* que faz a ligação automática com os arquivos de cabeçalho e bibliotecas necessários para a compilação."
      ],
      "metadata": {
        "id": "f5tvHuvYEJe_"
      }
    },
    {
      "cell_type": "code",
      "source": [
        "!cat ./src/mpi_simples.c\n"
      ],
      "metadata": {
        "colab": {
          "base_uri": "https://localhost:8080/"
        },
        "id": "o7G606SlJvAW",
        "outputId": "4044efa7-ca85-4cae-9883-21e61bb5a206"
      },
      "execution_count": 4,
      "outputs": [
        {
          "output_type": "stream",
          "name": "stdout",
          "text": [
            "#include <stdio.h>\n",
            "#include <string.h>\n",
            "#include \"mpi.h\"\n",
            "\n",
            "int main(int argc, char *argv[]) { /* mpi_simples.c  */\n",
            "int meu_ranque, num_procs;\n",
            "int origem, destino, etiq = 0;\n",
            "char mensagem[200];\n",
            "MPI_Status estado;\n",
            "    /* Chamada inicial para o MPI */\n",
            "    MPI_Init(&argc, &argv);\n",
            "    /* Determina ranque e número de processos em execução */\n",
            "    MPI_Comm_rank(MPI_COMM_WORLD, &meu_ranque);\n",
            "    MPI_Comm_size(MPI_COMM_WORLD, &num_procs);\n",
            "    /* Todos os processos com ranque diferente de 0 enviam uma mensagem */\n",
            "    if (meu_ranque != 0) {\n",
            "        sprintf(mensagem, \"Processo %d está vivo!\", meu_ranque);\n",
            "        destino = 0;\n",
            "        MPI_Send(mensagem, strlen(mensagem)+1, MPI_CHAR, destino, etiq, MPI_COMM_WORLD);\n",
            "    } \n",
            "    /* Processo com ranque 0 recebe num_procs-1 mensagens */\n",
            "    else {\n",
            "        for (origem = 1; origem < num_procs; origem++) {\n",
            "            MPI_Recv(mensagem, 200, MPI_CHAR, origem, etiq, MPI_COMM_WORLD, &estado);\n",
            "    /* Imprime as mensagens recebidas */\n",
            "            printf(\"%s\\n\",mensagem); \n",
            "        }\n",
            "    } \n",
            "    MPI_Finalize();\n",
            "    return(0);\n",
            "}"
          ]
        }
      ]
    },
    {
      "cell_type": "code",
      "source": [
        "!mpicc -o bin/mpi_simples src/mpi_simples.c\n",
        "!mpirun --allow-run-as-root -np 4 ./bin/mpi_simples"
      ],
      "metadata": {
        "colab": {
          "base_uri": "https://localhost:8080/"
        },
        "id": "NRHa9zGXLNUK",
        "outputId": "c7a0f118-b725-4c4b-f62d-47b0eba47f07"
      },
      "execution_count": 7,
      "outputs": [
        {
          "output_type": "stream",
          "name": "stdout",
          "text": [
            "Processo 1 está vivo!\n",
            "Processo 2 está vivo!\n",
            "Processo 3 está vivo!\n"
          ]
        }
      ]
    }
  ]
}